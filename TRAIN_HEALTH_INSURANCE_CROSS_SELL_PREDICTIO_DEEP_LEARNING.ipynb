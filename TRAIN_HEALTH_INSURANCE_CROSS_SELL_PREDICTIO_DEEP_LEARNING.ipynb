{
  "nbformat": 4,
  "nbformat_minor": 0,
  "metadata": {
    "colab": {
      "private_outputs": true,
      "provenance": [],
      "gpuType": "T4",
      "authorship_tag": "ABX9TyO8KacnlbB2ycMj6DCjr8aX",
      "include_colab_link": true
    },
    "kernelspec": {
      "name": "python3",
      "display_name": "Python 3"
    },
    "language_info": {
      "name": "python"
    },
    "accelerator": "GPU"
  },
  "cells": [
    {
      "cell_type": "markdown",
      "metadata": {
        "id": "view-in-github",
        "colab_type": "text"
      },
      "source": [
        "<a href=\"https://colab.research.google.com/github/vkstar444/TRAIN-HEALTH-INSURANCE-CROSS-SELL-PREDICTION/blob/main/TRAIN_HEALTH_INSURANCE_CROSS_SELL_PREDICTIO_DEEP_LEARNING.ipynb\" target=\"_parent\"><img src=\"https://colab.research.google.com/assets/colab-badge.svg\" alt=\"Open In Colab\"/></a>"
      ]
    },
    {
      "cell_type": "markdown",
      "source": [
        "# **Project Name**    -  TRAIN-HEALTH INSURANCE CROSS SELL PREDICTION\n",
        "\n"
      ],
      "metadata": {
        "id": "vncDsAP0Gaoa"
      }
    },
    {
      "cell_type": "markdown",
      "source": [
        "##### **Project Type**    - Classification\n",
        "##### **Contribution**    - Individual\n"
      ],
      "metadata": {
        "id": "beRrZCGUAJYm"
      }
    },
    {
      "cell_type": "markdown",
      "source": [
        "# **Project Summary -**"
      ],
      "metadata": {
        "id": "FJNUwmbgGyua"
      }
    },
    {
      "cell_type": "markdown",
      "source": [
        "### Summary of Health Insurance Cross-Sell Prediction Dataset\n",
        "\n",
        "The dataset contains 381,109 rows and 12 columns, which represent information about individuals and their interest in purchasing health insurance. The aim is to predict whether a customer will buy insurance (captured in the `Response` column). Below is a detailed breakdown of the dataset and key insights.\n",
        "\n",
        "#### Key Features:\n",
        "1. **ID**: This is a unique identifier for each individual and serves no analytical purpose other than as a reference.\n",
        "   \n",
        "2. **Gender**: This categorical variable has two values: \"Male\" and \"Female.\" Gender might influence purchasing behavior or insurance uptake trends, though it's important to test whether this assumption holds.\n",
        "\n",
        "3. **Age**: The `Age` column provides the age of each customer. Age is an essential factor in health insurance as older individuals might have different needs and risk profiles compared to younger customers. Health risks tend to increase with age, making older individuals more likely to buy insurance.\n",
        "\n",
        "4. **Driving_License**: This binary feature indicates whether the individual has a valid driving license (1 = Yes, 0 = No). While it seems irrelevant to health insurance, it may be correlated with other behavioral traits or eligibility conditions for certain insurance products.\n",
        "\n",
        "5. **Region_Code**: This numeric feature encodes different regions where customers live. Regional patterns could help in identifying locations where insurance penetration is higher or lower, which can guide marketing and outreach strategies.\n",
        "\n",
        "6. **Previously_Insured**: A critical factor, this binary variable (1 = Yes, 0 = No) indicates whether the customer is already insured. Customers who are already insured may be less likely to purchase another insurance product, which makes this feature highly informative for predicting the target outcome.\n",
        "\n",
        "7. **Vehicle_Age**: This categorical variable classifies the customer's vehicle into three groups: \"< 1 Year\", \"1-2 Year\", and \"> 2 Years.\" While vehicle age doesn’t directly impact health insurance needs, it may signal how risk-averse or financially conservative the individual is, which might indirectly affect their likelihood to buy insurance.\n",
        "\n",
        "8. **Vehicle_Damage**: This is another binary variable (Yes/No) indicating whether the vehicle has been damaged in the past. People with a damaged vehicle may have a higher risk profile or could be more inclined to buy insurance for protection, including health insurance.\n",
        "\n",
        "9. **Annual_Premium**: This is the amount of premium paid by the customer for their current insurance policy. This feature is continuous and directly reflects the customer's financial capability and interest in insurance products. Higher premiums may reflect more comprehensive insurance, while lower premiums may indicate basic coverage.\n",
        "\n",
        "10. **Policy_Sales_Channel**: This feature is a numeric code representing the distribution channel through which the insurance was sold (e.g., online, through agents, or other means). Understanding the effectiveness of different sales channels is crucial for tailoring marketing efforts and identifying the channels with the highest conversion rates.\n",
        "\n",
        "11. **Vintage**: This indicates the number of days the customer has been associated with the insurance provider. Customers who have been with a provider for longer periods might show higher loyalty, but could also be less likely to switch or purchase additional products if their needs are already met.\n",
        "\n",
        "12. **Response**: This is the target variable (1 = Yes, 0 = No), which indicates whether the customer purchased the health insurance or not. The goal is to predict this outcome based on the other features in the dataset.\n",
        "\n",
        "#### Initial Insights:\n",
        "- **Previously_Insured** is likely to be one of the most important features. If a customer is already insured, they are likely to decline new insurance offers, resulting in a `Response` of 0.\n",
        "- **Annual_Premium** and **Vintage** could be key predictors of customer behavior. Higher premiums might indicate higher engagement or financial readiness to buy more insurance, while longer vintage could point to greater loyalty and likelihood of buying more products.\n",
        "- **Vehicle_Age** and **Vehicle_Damage** could offer indirect insights into the customer’s risk tolerance and propensity to invest in protection, including health insurance.\n",
        "\n",
        "#### Conclusion:\n",
        "The dataset is rich in features that relate directly and indirectly to an individual's likelihood to buy health insurance. To fully unlock insights, a thorough exploratory data analysis (EDA) and feature engineering would be necessary to uncover relationships between features and to build a predictive model. Factors such as previous insurance status, age, and premium amount will likely play a crucial role in determining insurance purchase decisions.\n",
        "\n",
        "By focusing on these relationships, companies can better target potential customers and improve their cross-selling efforts."
      ],
      "metadata": {
        "id": "F6v_1wHtG2nS"
      }
    },
    {
      "cell_type": "markdown",
      "source": [
        "# **GitHub Link -**"
      ],
      "metadata": {
        "id": "w6K7xa23Elo4"
      }
    },
    {
      "cell_type": "markdown",
      "source": [
        "https://github.com/vkstar444/TRAIN-HEALTH-INSURANCE-CROSS-SELL-PREDICTION"
      ],
      "metadata": {
        "id": "h1o69JH3Eqqn"
      }
    },
    {
      "cell_type": "markdown",
      "source": [
        "# **Problem Statement**\n"
      ],
      "metadata": {
        "id": "yQaldy8SH6Dl"
      }
    },
    {
      "cell_type": "markdown",
      "source": [
        "### Problem Statement\n",
        "\n",
        "The goal of this project is to predict whether a customer will purchase a health insurance product based on their demographic, vehicle-related, and policy-related information. This problem addresses the need for insurance companies to identify customers who are more likely to buy additional insurance products, enabling more targeted marketing strategies and efficient allocation of resources.\n",
        "\n",
        "With a large dataset of over 380,000 records, we aim to build a predictive model that can accurately forecast customer behavior, particularly their likelihood to respond positively to health insurance offers. Key factors include demographic variables (e.g., age, gender, region), vehicle characteristics (e.g., vehicle age, past damage), and insurance history (e.g., whether the customer is already insured, annual premium paid). The objective is to optimize cross-selling efforts by predicting the `Response` variable, which indicates whether a customer purchased health insurance (`1` for Yes, `0` for No).\n",
        "\n",
        "The model will be instrumental in helping insurance companies:\n",
        "- **Increase sales**: By targeting customers with the highest probability of purchasing.\n",
        "- **Enhance customer retention**: By identifying loyal or long-term customers likely to respond to cross-sell offers.\n",
        "- **Optimize marketing strategies**: By understanding key customer attributes that drive purchase decisions.\n",
        "\n",
        "The challenge lies in finding meaningful patterns within the data that can distinguish between likely buyers and non-buyers, thereby improving the efficiency and effectiveness of the company's sales operations."
      ],
      "metadata": {
        "id": "DpeJGUA3kjGy"
      }
    },
    {
      "cell_type": "markdown",
      "source": [
        "# ***1. Know Your Data***"
      ],
      "metadata": {
        "id": "HhfV-JJviCcP"
      }
    },
    {
      "cell_type": "markdown",
      "source": [
        "### Import Libraries"
      ],
      "metadata": {
        "id": "Y3lxredqlCYt"
      }
    },
    {
      "cell_type": "code",
      "source": [
        "# Import Libraries\n",
        "import pandas as pd\n",
        "import numpy as np\n",
        "import matplotlib.pyplot as plt\n",
        "import seaborn as sns\n",
        "import warnings\n",
        "warnings.filterwarnings('ignore')\n",
        "from sklearn.model_selection import train_test_split\n",
        "from sklearn.preprocessing import StandardScaler\n",
        "from tensorflow import keras\n",
        "from tensorflow.keras import layers"
      ],
      "metadata": {
        "id": "ikd7LhFNvWNu"
      },
      "execution_count": null,
      "outputs": []
    },
    {
      "cell_type": "markdown",
      "source": [
        "### Dataset Loading"
      ],
      "metadata": {
        "id": "3RnN4peoiCZX"
      }
    },
    {
      "cell_type": "code",
      "source": [
        "# Load Dataset\n",
        "from google.colab import drive\n",
        "drive.mount('/content/drive')"
      ],
      "metadata": {
        "id": "4CkvbW_SlZ_R"
      },
      "execution_count": null,
      "outputs": []
    },
    {
      "cell_type": "code",
      "source": [
        "data = pd.read_csv('/content/drive/MyDrive/TRAIN-HEALTH INSURANCE CROSS SELL PREDICTION(Classification)_DEEP_LEARNING/TRAIN-HEALTH INSURANCE CROSS SELL PREDICTION.csv')"
      ],
      "metadata": {
        "id": "bcQX2lIwv79B"
      },
      "execution_count": null,
      "outputs": []
    },
    {
      "cell_type": "markdown",
      "source": [
        "### Dataset First View"
      ],
      "metadata": {
        "id": "x71ZqKXriCWQ"
      }
    },
    {
      "cell_type": "code",
      "source": [
        "# Dataset First Look\n",
        "print('Dataset First Look')\n",
        "data.head()"
      ],
      "metadata": {
        "id": "LWNFOSvLl09H"
      },
      "execution_count": null,
      "outputs": []
    },
    {
      "cell_type": "markdown",
      "source": [
        "### Dataset Rows & Columns count"
      ],
      "metadata": {
        "id": "7hBIi_osiCS2"
      }
    },
    {
      "cell_type": "code",
      "source": [
        "# Dataset Rows & Columns count\n",
        "print(\"\\nDataset Rows & Columns count:\")\n",
        "print(f\"Rows: {data.shape[0]}, Columns: {data.shape[1]}\")"
      ],
      "metadata": {
        "id": "Kllu7SJgmLij"
      },
      "execution_count": null,
      "outputs": []
    },
    {
      "cell_type": "markdown",
      "source": [
        "### Dataset Information"
      ],
      "metadata": {
        "id": "JlHwYmJAmNHm"
      }
    },
    {
      "cell_type": "code",
      "source": [
        "# Dataset Info\n",
        "print(\"\\nDataset Information:\")\n",
        "data.info()"
      ],
      "metadata": {
        "id": "e9hRXRi6meOf"
      },
      "execution_count": null,
      "outputs": []
    },
    {
      "cell_type": "markdown",
      "source": [
        "#### Duplicate Values"
      ],
      "metadata": {
        "id": "35m5QtbWiB9F"
      }
    },
    {
      "cell_type": "code",
      "source": [
        "# Dataset Duplicate Value Count\n",
        "print(\"\\nDataset Duplicate Value Count:\")\n",
        "print(f\"Duplicate Values: {data.duplicated().sum()}\")"
      ],
      "metadata": {
        "id": "1sLdpKYkmox0"
      },
      "execution_count": null,
      "outputs": []
    },
    {
      "cell_type": "markdown",
      "source": [
        "#### Missing Values/Null Values"
      ],
      "metadata": {
        "id": "PoPl-ycgm1ru"
      }
    },
    {
      "cell_type": "code",
      "source": [
        "# Missing Values/Null Values Count\n",
        "print(\"\\nMissing Values/Null Values Count:\")\n",
        "print(data.isnull().sum())"
      ],
      "metadata": {
        "id": "GgHWkxvamxVg"
      },
      "execution_count": null,
      "outputs": []
    },
    {
      "cell_type": "code",
      "source": [
        "# Visualizing the missing values\n",
        "print(\"\\nVisualizing the missing values:\")\n",
        "sns.heatmap(data.isnull(), cbar=False)\n",
        "plt.show()"
      ],
      "metadata": {
        "id": "3q5wnI3om9sJ"
      },
      "execution_count": null,
      "outputs": []
    },
    {
      "cell_type": "markdown",
      "source": [
        "### What did you know about your dataset?"
      ],
      "metadata": {
        "id": "H0kj-8xxnORC"
      }
    },
    {
      "cell_type": "markdown",
      "source": [
        "#### Understanding the Dataset\n",
        "\n",
        "The dataset consists of 381,109 records, each representing a customer, with 12 columns that provide demographic, vehicle-related, and insurance-related information. Here’s a breakdown of what is known about the dataset:\n",
        "\n",
        "#### Key Attributes:\n",
        "1. **Demographic Information**:\n",
        "   - **Gender**: Categorical variable indicating the gender of the customer (Male or Female).\n",
        "   - **Age**: Numerical variable providing the age of the customer. Age is a significant factor in predicting the likelihood of purchasing insurance, as health risks increase with age.\n",
        "\n",
        "2. **Vehicle-Related Information**:\n",
        "   - **Vehicle_Age**: Categorized into three groups (`< 1 Year`, `1-2 Year`, `> 2 Years`), which reflects the age of the customer's vehicle. Vehicle age can be an indicator of financial conservatism or risk aversion.\n",
        "   - **Vehicle_Damage**: Binary variable indicating whether the customer’s vehicle has been damaged before. This variable indirectly hints at the customer’s risk tolerance.\n",
        "\n",
        "3. **Insurance-Related Information**:\n",
        "   - **Driving_License**: Binary variable indicating whether the customer has a valid driving license. Most customers have a driving license, so this feature may not add much variation, but it could still be relevant.\n",
        "   - **Previously_Insured**: A binary variable that shows whether the customer already has insurance. This is a highly informative feature because customers who are already insured may not be interested in purchasing additional coverage.\n",
        "   - **Annual_Premium**: A continuous variable representing the amount paid for the current insurance policy. Higher premiums may reflect a customer’s financial capacity and inclination toward buying more comprehensive coverage.\n",
        "   - **Policy_Sales_Channel**: Numeric variable that represents the sales channel (e.g., agents, online) through which the policy was sold. Different sales channels might have varying effectiveness.\n",
        "   - **Vintage**: The number of days the customer has been associated with the insurance provider. Customers with a longer association might exhibit higher loyalty, impacting their likelihood to buy more products.\n",
        "\n",
        "4. **Target Variable**:\n",
        "   - **Response**: This is the main target variable (1 = Yes, 0 = No), representing whether the customer bought health insurance or not.\n",
        "\n",
        "#### Data Type Summary:\n",
        "- The dataset contains both categorical (e.g., Gender, Vehicle_Age) and numerical (e.g., Age, Annual_Premium) variables.\n",
        "- There are no missing values in the dataset, as all columns have complete data.\n",
        "- The dataset seems well-structured, with most columns having an intuitive relationship to the target variable (Response).\n",
        "\n",
        "#### Key Insights:\n",
        "- **Previously_Insured** is likely to be a critical feature because customers who already have insurance may not be interested in buying more, leading to a `Response` of 0.\n",
        "- **Annual_Premium** and **Vintage** could help in predicting customer behavior, with higher premiums indicating a greater likelihood to buy more products, and longer vintage suggesting loyalty.\n",
        "- **Vehicle_Damage** and **Vehicle_Age** may indirectly influence the customer’s risk profile and affect their insurance decisions.\n",
        "\n",
        "Overall, the dataset contains rich information that can be used to predict whether a customer will purchase health insurance, which is useful for building predictive models for marketing and sales optimization."
      ],
      "metadata": {
        "id": "gfoNAAC-nUe_"
      }
    },
    {
      "cell_type": "markdown",
      "source": [],
      "metadata": {
        "id": "TcnbSUqbrOLJ"
      }
    },
    {
      "cell_type": "code",
      "source": [
        "# Convert categorical variables to numeric\n",
        "data['Gender'] = data['Gender'].map({'Male': 1, 'Female': 0})\n",
        "data['Vehicle_Damage'] = data['Vehicle_Damage'].map({'Yes': 1, 'No': 0})\n",
        "data['Previously_Insured'] = data['Previously_Insured'].astype(int)"
      ],
      "metadata": {
        "id": "ZXsiGVWAtTXe"
      },
      "execution_count": null,
      "outputs": []
    },
    {
      "cell_type": "code",
      "source": [
        "# One-hot encoding for categorical variables\n",
        "data = pd.get_dummies(data, columns=['Vehicle_Age', 'Policy_Sales_Channel'], drop_first=True)"
      ],
      "metadata": {
        "id": "OqBE3F5atW89"
      },
      "execution_count": null,
      "outputs": []
    },
    {
      "cell_type": "code",
      "source": [
        "# Define features and target variable\n",
        "X = data.drop(['id', 'Response'], axis=1)\n",
        "y = data['Response']"
      ],
      "metadata": {
        "id": "-kNOY7ZKtZiW"
      },
      "execution_count": null,
      "outputs": []
    },
    {
      "cell_type": "code",
      "source": [
        "# Split the data into training and testing sets\n",
        "X_train, X_test, y_train, y_test = train_test_split(X, y, test_size=0.3, random_state=42)\n",
        "\n",
        "# Scale the features\n",
        "scaler = StandardScaler()\n",
        "X_train = scaler.fit_transform(X_train)\n",
        "X_test = scaler.transform(X_test)"
      ],
      "metadata": {
        "id": "hR8z9GH-tcZd"
      },
      "execution_count": null,
      "outputs": []
    },
    {
      "cell_type": "code",
      "source": [
        "# Build the Deep Learning model\n",
        "model = keras.Sequential()\n",
        "model.add(layers.Dense(64, activation='relu', input_shape=(X_train.shape[1],)))\n",
        "model.add(layers.Dense(32, activation='relu'))\n",
        "model.add(layers.Dense(1, activation='sigmoid'))"
      ],
      "metadata": {
        "id": "npgcZSGgth2Z"
      },
      "execution_count": null,
      "outputs": []
    },
    {
      "cell_type": "code",
      "source": [
        "model.summary()"
      ],
      "metadata": {
        "id": "U_NJDkXjtsCN"
      },
      "execution_count": null,
      "outputs": []
    },
    {
      "cell_type": "code",
      "source": [
        "# Compile the model\n",
        "model.compile(optimizer='adam', loss='binary_crossentropy', metrics=['accuracy'])\n",
        "\n",
        "# Train the model\n",
        "history = model.fit(X_train, y_train, epochs=50, batch_size=32, validation_split=0.2)\n",
        "\n"
      ],
      "metadata": {
        "id": "SBBSzfvBtr-S"
      },
      "execution_count": null,
      "outputs": []
    },
    {
      "cell_type": "code",
      "source": [
        "# Evaluate the model\n",
        "loss, accuracy = model.evaluate(X_test, y_test)\n",
        "print(f\"Test Accuracy: {accuracy:.4f}\")"
      ],
      "metadata": {
        "id": "L6RY-Ocet3sC"
      },
      "execution_count": null,
      "outputs": []
    },
    {
      "cell_type": "code",
      "source": [
        "# Plot training history\n",
        "plt.plot(history.history['accuracy'], label='accuracy')\n",
        "plt.plot(history.history['val_accuracy'], label='val_accuracy')\n",
        "plt.title('Model Accuracy')\n",
        "plt.ylabel('Accuracy')\n",
        "plt.xlabel('Epoch')\n",
        "plt.legend()\n",
        "plt.show()"
      ],
      "metadata": {
        "id": "AX655pN_xk5P"
      },
      "execution_count": null,
      "outputs": []
    },
    {
      "cell_type": "code",
      "source": [
        "\n",
        "\n",
        "plt.plot(history.history['loss'], label='loss')\n",
        "plt.plot(history.history['val_loss'], label='val_loss')\n",
        "plt.title('Model Loss')\n",
        "plt.ylabel('Loss')\n",
        "plt.xlabel('Epoch')\n",
        "plt.legend()\n",
        "plt.show()"
      ],
      "metadata": {
        "id": "eGQ8pem9rNoY"
      },
      "execution_count": null,
      "outputs": []
    }
  ]
}